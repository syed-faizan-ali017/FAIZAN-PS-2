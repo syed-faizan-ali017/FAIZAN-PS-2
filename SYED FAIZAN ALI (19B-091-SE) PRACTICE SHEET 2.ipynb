{
 "cells": [
  {
   "cell_type": "markdown",
   "metadata": {},
   "source": [
    "# Python User Define Function Practice Activity - 2 "
   ]
  },
  {
   "cell_type": "markdown",
   "metadata": {},
   "source": [
    "Asst. Prof. Syed Faisal Ali              $\\;\\;\\;\\;\\;\\;$              Programming Fundamentals - FALL 2019 $\\;\\;\\;\\;\\;\\;$ Software Engineering                     $\\;\\;\\;\\;\\;\\;$                   Dated: 27 Nov 2019"
   ]
  },
  {
   "cell_type": "markdown",
   "metadata": {},
   "source": [
    "Question 1: Create a function to find the following:\n",
    "If the base of triangle is 3 cm long and its equilateral triangle and the radius of circle is 1.5 cm then find the area of triangle shaded. \n"
   ]
  },
  {
   "cell_type": "markdown",
   "metadata": {},
   "source": [
    "![proj](q1.jpg)"
   ]
  },
  {
   "cell_type": "code",
   "execution_count": 40,
   "metadata": {},
   "outputs": [
    {
     "name": "stdout",
     "output_type": "stream",
     "text": [
      "area of shaded region is:  19.931416529422965\n"
     ]
    }
   ],
   "source": [
    "import math\n",
    "def area(r, b):\n",
    "    area_of_circle = math.pi*r*r\n",
    "    area_of_triangle = b*b*3\n",
    "    x = area_of_triangle-area_of_circle        \n",
    "    print(\"area of shaded region is: \" ,x)\n",
    "area(1.5,3)\n",
    "\n",
    "    "
   ]
  },
  {
   "cell_type": "markdown",
   "metadata": {},
   "source": [
    "Question 2: Create a function which can read a dictionary of your family members such as 5 members. \n",
    "1 Abbu, 1 Ammi, 2 Brothers 1 Sister. Now feed this data in dictionary in terms of name and relations.\n",
    "The UDF will ask findrelation() in this you will enter Brother it will return the names of two brothers you have inserted. In case if the relation is not found it will return “Sorry the relation doesn’t exist in your family.” \n"
   ]
  },
  {
   "cell_type": "code",
   "execution_count": 6,
   "metadata": {},
   "outputs": [
    {
     "name": "stdout",
     "output_type": "stream",
     "text": [
      "REENA ALI\n",
      "SHAYYAN\n"
     ]
    }
   ],
   "source": [
    "def relation(d):\n",
    "    dict={'father':'MOHAMMAD ALI','brother':'SHAYYAN','sister':'HERMAIN','mother':'REENA ALI'}\n",
    "    x=dict[d]\n",
    "    return x\n",
    "print(relation('mother'))\n",
    "print(relation('brother'))\n"
   ]
  },
  {
   "cell_type": "markdown",
   "metadata": {},
   "source": [
    "Question 3: Create a function to find the following:\n",
    "If the base of triangle is 5 cm long and its equilateral triangle and the radius of circle is 2.25 cm then find the area of triangle shaded. \n"
   ]
  },
  {
   "cell_type": "markdown",
   "metadata": {},
   "source": [
    "![proj](q3.jpg)"
   ]
  },
  {
   "cell_type": "code",
   "execution_count": 38,
   "metadata": {},
   "outputs": [
    {
     "name": "stdout",
     "output_type": "stream",
     "text": [
      "area of shaded region is:  2.25  cm^2\n"
     ]
    }
   ],
   "source": [
    "import math\n",
    "def area(r, b):\n",
    "    area_of_circle = math.pi*r*r\n",
    "    area_of_triangle = b*b*5\n",
    "    x = area_of_circle-area_of_triangle        \n",
    "    print(\"area of shaded region is: \" ,r,\" cm^2\")\n",
    "area(2.25,5)"
   ]
  },
  {
   "cell_type": "markdown",
   "metadata": {},
   "source": [
    "Question 4:\n",
    "Create a function that takes a list of random numbers from users and add only those which are even. If all the numbers are odd it will return sorry no even number found.\n"
   ]
  },
  {
   "cell_type": "code",
   "execution_count": 4,
   "metadata": {},
   "outputs": [
    {
     "name": "stdout",
     "output_type": "stream",
     "text": [
      "sum of even numbers are  8\n"
     ]
    }
   ],
   "source": [
    "def even(a,f,d,e,s):\n",
    "    lst = [a,f,d,e,s]\n",
    "    sum = 0\n",
    "    for i in lst:\n",
    "        if i%2 == 0:\n",
    "            sum = +i\n",
    "    print(\"sum of even numbers are \",sum)\n",
    "even(2,3,5,6,8)    "
   ]
  },
  {
   "cell_type": "markdown",
   "metadata": {},
   "source": [
    "Question 5:\n",
    "Write a function which can take a list of numbers and it will return sorted list.\n"
   ]
  },
  {
   "cell_type": "code",
   "execution_count": 8,
   "metadata": {},
   "outputs": [
    {
     "name": "stdout",
     "output_type": "stream",
     "text": [
      "the sorted list is  [23, 43, 53, 54, 63, 99]\n"
     ]
    }
   ],
   "source": [
    "def sortt(a,f,d,e,s,z):\n",
    "    lst = [a,f,d,e,s,z]\n",
    "    lst.sort()\n",
    "    print(\"the sorted list is \",lst)\n",
    "sortt(23,43,54,63,99,53)\n"
   ]
  },
  {
   "cell_type": "markdown",
   "metadata": {},
   "source": [
    "Question 6:\n",
    "Write a function that will take the radius and return the perimeter and area of circle with 5% increment.\n"
   ]
  },
  {
   "cell_type": "code",
   "execution_count": 11,
   "metadata": {},
   "outputs": [
    {
     "name": "stdout",
     "output_type": "stream",
     "text": [
      "area =  5.6556\n",
      "perimeter =  1.8852000000000002\n"
     ]
    }
   ],
   "source": [
    "def area_circle(pi,r):\n",
    "    return(pi*r**2)*5/100\n",
    "def perimeter_rectangle(a, b):\n",
    "    return (2 * (pi*r))*5/100\n",
    "pi = 3.142\n",
    "r = 6\n",
    "print (\"area = \", area_circle(pi, r))\n",
    "print(\"perimeter = \",\n",
    "perimeter_rectangle(pi, r))      "
   ]
  },
  {
   "cell_type": "markdown",
   "metadata": {},
   "source": [
    "Question 7:\n",
    "Write a function that will take the strings as argument and return number of vowels and consonants.\n"
   ]
  },
  {
   "cell_type": "code",
   "execution_count": 4,
   "metadata": {},
   "outputs": [
    {
     "name": "stdout",
     "output_type": "stream",
     "text": [
      "the number of vowels are  5\n",
      "the number of consonants are  5\n"
     ]
    }
   ],
   "source": [
    "def vowels(s):\n",
    "    vowel = 0\n",
    "    consonant = 0\n",
    "    for i in s:\n",
    "        if i in \"aeiouAEIOU\":\n",
    "            vowel += 1\n",
    "        else:\n",
    "            consonant +=1\n",
    "    print(\"the number of vowels are \",vowel)\n",
    "    print(\"the number of consonants are \",consonant)\n",
    "vowels(\"Faizan Ali\")    "
   ]
  },
  {
   "cell_type": "markdown",
   "metadata": {},
   "source": [
    "Question 8:\n",
    "Write a function that will take length and breadth for a rectangle and return perimeter and area of rectangle with 8% increment.\n"
   ]
  },
  {
   "cell_type": "code",
   "execution_count": 7,
   "metadata": {},
   "outputs": [
    {
     "name": "stdout",
     "output_type": "stream",
     "text": [
      "the perimeter of rectangle is  32.4 \n",
      "the area of rectangle is  54.0\n"
     ]
    }
   ],
   "source": [
    "def perimeter_area(l,b):\n",
    "    p=2*(l+b)\n",
    "    a=l*b\n",
    "    x=p/12.5+p\n",
    "    y=a/12.5+a\n",
    "    print(\"the perimeter of rectangle is \",x,\"\\nthe area of rectangle is \",y)\n",
    "perimeter_area(5,10)"
   ]
  },
  {
   "cell_type": "markdown",
   "metadata": {},
   "source": [
    "Question 9:\n",
    "Write a function that can take the numbers in strings. From string find which number is even and which one is odd. Save them in two different lists and generate the result.\n"
   ]
  },
  {
   "cell_type": "code",
   "execution_count": 8,
   "metadata": {},
   "outputs": [
    {
     "name": "stdout",
     "output_type": "stream",
     "text": [
      "even list are  [2, 10, 18, 88, 72] \n",
      "odd list are  [25]\n"
     ]
    }
   ],
   "source": [
    "def str1(a,d,e,s,z,f):\n",
    "    even=[]\n",
    "    odd=[]\n",
    "    lst=[a,d,e,s,z,f]\n",
    "    for i in lst:\n",
    "        if i%2==0:\n",
    "            even.append(i)\n",
    "        else:\n",
    "            odd.append(i)\n",
    "    print(\"even list are \",even,\"\\nodd list are \",odd)\n",
    "str1(2,10,18,25,88,72)"
   ]
  },
  {
   "cell_type": "markdown",
   "metadata": {},
   "source": [
    "Question 10:\n",
    "Write a function which will take the string from the user and return how many alphabets have been used in it and which alphabets are missing.\n"
   ]
  },
  {
   "cell_type": "code",
   "execution_count": 30,
   "metadata": {},
   "outputs": [
    {
     "name": "stdout",
     "output_type": "stream",
     "text": [
      "the missing alphabets are  ['b', 'c', 'd', 'e', 'g', 'h', 'j', 'k', 'l', 'm', 'o', 'p', 'q', 'r', 's', 't', 'u', 'v', 'w', 'x', 'y']\n",
      "the used alphabet are  faizn\n",
      "f a i z n "
     ]
    }
   ],
   "source": [
    "def alphabet(s):   \n",
    "    alphabets=['a','b','c','d','e','f','g','h','i','j','k','l','m','n','o','p','q','r','s','t','u','v','w','x','y','z']\n",
    "    for i in s:\n",
    "        alphabets.remove(i)\n",
    "    print('the missing alphabets are ',alphabets)\n",
    "    print(\"the used alphabet are \",s)\n",
    "    for i in s:\n",
    "        print(i,end=\" \")\n",
    "alphabet(\"faizn\")"
   ]
  },
  {
   "cell_type": "markdown",
   "metadata": {},
   "source": [
    "Question 11:\n",
    "Write a function that will take verbs in words and return a list of verbs with continuous tense by adding (ing) at the end of each verb.\n"
   ]
  },
  {
   "cell_type": "code",
   "execution_count": 9,
   "metadata": {},
   "outputs": [
    {
     "name": "stdout",
     "output_type": "stream",
     "text": [
      "danceing\n",
      "singing\n"
     ]
    }
   ],
   "source": [
    "def verb(x):\n",
    "    return x+\"ing\"\n",
    "print(verb(\"dance\"))\n",
    "print(verb(\"sing\"))"
   ]
  },
  {
   "cell_type": "markdown",
   "metadata": {},
   "source": [
    "Question 12:\n",
    "Make a function which can take two radius of circles and find the areas of it and subtract smaller one from larger one and tell the remaining area of circle.\n"
   ]
  },
  {
   "cell_type": "code",
   "execution_count": 14,
   "metadata": {},
   "outputs": [
    {
     "name": "stdout",
     "output_type": "stream",
     "text": [
      "the area of circle is  188.49555921538757\n",
      "None\n",
      "the area of circle is  188.49555921538757\n",
      "None\n"
     ]
    }
   ],
   "source": [
    "import math\n",
    "def area(rad1,rad2):\n",
    "    area_1=math.pi*rad1*rad1\n",
    "    area_2=math.pi*rad2*rad2\n",
    "    if rad1>rad2:\n",
    "        area=area_1-area_2\n",
    "        print(\"the area of circle is \",area)\n",
    "    elif rad1<rad2:\n",
    "        area=area_2-area_1\n",
    "        print(\"the area of circle is \",area)\n",
    "print(area(2,8))\n",
    "print(area(8,2))"
   ]
  },
  {
   "cell_type": "markdown",
   "metadata": {},
   "source": [
    "Question 13:\n",
    "Write a function that will take a string and calculate number of Upper case letters and lower case letters.\n"
   ]
  },
  {
   "cell_type": "code",
   "execution_count": 15,
   "metadata": {},
   "outputs": [
    {
     "name": "stdout",
     "output_type": "stream",
     "text": [
      "Original string : Try to be Practical in Life\n",
      "No. of Upper case characters :  1\n",
      "No. of Lower case characters :  0\n",
      "Original string : Try to be Practical in Life\n",
      "No. of Upper case characters :  1\n",
      "No. of Lower case characters :  1\n",
      "Original string : Try to be Practical in Life\n",
      "No. of Upper case characters :  1\n",
      "No. of Lower case characters :  2\n",
      "Original string : Try to be Practical in Life\n",
      "No. of Upper case characters :  1\n",
      "No. of Lower case characters :  2\n",
      "Original string : Try to be Practical in Life\n",
      "No. of Upper case characters :  1\n",
      "No. of Lower case characters :  3\n",
      "Original string : Try to be Practical in Life\n",
      "No. of Upper case characters :  1\n",
      "No. of Lower case characters :  4\n",
      "Original string : Try to be Practical in Life\n",
      "No. of Upper case characters :  1\n",
      "No. of Lower case characters :  4\n",
      "Original string : Try to be Practical in Life\n",
      "No. of Upper case characters :  1\n",
      "No. of Lower case characters :  5\n",
      "Original string : Try to be Practical in Life\n",
      "No. of Upper case characters :  1\n",
      "No. of Lower case characters :  6\n",
      "Original string : Try to be Practical in Life\n",
      "No. of Upper case characters :  1\n",
      "No. of Lower case characters :  6\n",
      "Original string : Try to be Practical in Life\n",
      "No. of Upper case characters :  2\n",
      "No. of Lower case characters :  6\n",
      "Original string : Try to be Practical in Life\n",
      "No. of Upper case characters :  2\n",
      "No. of Lower case characters :  7\n",
      "Original string : Try to be Practical in Life\n",
      "No. of Upper case characters :  2\n",
      "No. of Lower case characters :  8\n",
      "Original string : Try to be Practical in Life\n",
      "No. of Upper case characters :  2\n",
      "No. of Lower case characters :  9\n",
      "Original string : Try to be Practical in Life\n",
      "No. of Upper case characters :  2\n",
      "No. of Lower case characters :  10\n",
      "Original string : Try to be Practical in Life\n",
      "No. of Upper case characters :  2\n",
      "No. of Lower case characters :  11\n",
      "Original string : Try to be Practical in Life\n",
      "No. of Upper case characters :  2\n",
      "No. of Lower case characters :  12\n",
      "Original string : Try to be Practical in Life\n",
      "No. of Upper case characters :  2\n",
      "No. of Lower case characters :  13\n",
      "Original string : Try to be Practical in Life\n",
      "No. of Upper case characters :  2\n",
      "No. of Lower case characters :  14\n",
      "Original string : Try to be Practical in Life\n",
      "No. of Upper case characters :  2\n",
      "No. of Lower case characters :  14\n",
      "Original string : Try to be Practical in Life\n",
      "No. of Upper case characters :  2\n",
      "No. of Lower case characters :  15\n",
      "Original string : Try to be Practical in Life\n",
      "No. of Upper case characters :  2\n",
      "No. of Lower case characters :  16\n",
      "Original string : Try to be Practical in Life\n",
      "No. of Upper case characters :  2\n",
      "No. of Lower case characters :  16\n",
      "Original string : Try to be Practical in Life\n",
      "No. of Upper case characters :  3\n",
      "No. of Lower case characters :  16\n",
      "Original string : Try to be Practical in Life\n",
      "No. of Upper case characters :  3\n",
      "No. of Lower case characters :  17\n",
      "Original string : Try to be Practical in Life\n",
      "No. of Upper case characters :  3\n",
      "No. of Lower case characters :  18\n",
      "Original string : Try to be Practical in Life\n",
      "No. of Upper case characters :  3\n",
      "No. of Lower case characters :  19\n"
     ]
    }
   ],
   "source": [
    "def strtest(s):\n",
    "    d = {\"UPPER_CASE\":0, \"LOWER_CASE\":0}\n",
    "    for i in s:\n",
    "        if i.isupper():\n",
    "            d[\"UPPER_CASE\"]+=1\n",
    "        elif i.islower():\n",
    "            d[\"LOWER_CASE\"]+=1\n",
    "        else:\n",
    "            pass\n",
    "        print(\"Original string :\", s)\n",
    "        print(\"No. of Upper case characters : \", d[\"UPPER_CASE\"])\n",
    "        print(\"No. of Lower case characters : \", d[\"LOWER_CASE\"])\n",
    "                                                   \n",
    "strtest('Try to be Practical in Life')     "
   ]
  },
  {
   "cell_type": "markdown",
   "metadata": {},
   "source": [
    "Question 14:\n",
    "Write a function which will take length and breadth of two rectangles. Subtract the smaller rectangle from the larger rectangle and return the area left behind.\n"
   ]
  },
  {
   "cell_type": "code",
   "execution_count": 34,
   "metadata": {},
   "outputs": [
    {
     "name": "stdout",
     "output_type": "stream",
     "text": [
      "the area of rectangle is  40  m.sq\n",
      "the area of rectangle is  32  m.sq\n"
     ]
    }
   ],
   "source": [
    "def area_rectangle(len1,bread1,len2,bread2):\n",
    "    area_1 = len1*bread1\n",
    "    area_2 = len2*bread2\n",
    "    if area_1>area_2:\n",
    "        area = area_1-area_2\n",
    "        print(\"the area of rectangle is \",area,\" m.sq\")\n",
    "    elif area_2>area_1:\n",
    "        area = area_2-area_1\n",
    "        print(\"the area of rectangle is \",area,\" m.sq\")\n",
    "area_rectangle(2,4,6,8)\n",
    "area_rectangle(1,3,5,7)"
   ]
  },
  {
   "cell_type": "markdown",
   "metadata": {},
   "source": [
    "Question 15:\n",
    "Create a function that can add the fractions in series such as 1 to 8 = 1/8+1/7+1/6+1/5 …… ½ and return the result in fraction not in decimal.\n"
   ]
  },
  {
   "cell_type": "code",
   "execution_count": 19,
   "metadata": {},
   "outputs": [
    {
     "name": "stdout",
     "output_type": "stream",
     "text": [
      "2509/2520\n"
     ]
    }
   ],
   "source": [
    "import fractions\n",
    "def fraction(x1,x2):\n",
    "    lst = []\n",
    "    for i in range(x1,x2+1):\n",
    "        x=fractions.Fraction(1,i)\n",
    "        lst.append(x)\n",
    "    print(sum(lst))\n",
    "fraction(4,9)    "
   ]
  },
  {
   "cell_type": "markdown",
   "metadata": {},
   "source": [
    "Question 16:\n",
    "Write a function which will take height and base for a triangle and \n"
   ]
  },
  {
   "cell_type": "code",
   "execution_count": 22,
   "metadata": {},
   "outputs": [
    {
     "name": "stdout",
     "output_type": "stream",
     "text": [
      "the third side of triangle is  4.47213595499958\n"
     ]
    }
   ],
   "source": [
    "import math\n",
    "def triangle(x,y):\n",
    "    z = (x*x)+(y*y)\n",
    "    Z = math.sqrt(z)\n",
    "    print(\"the third side of triangle is \",Z)\n",
    "triangle(2,4)    "
   ]
  },
  {
   "cell_type": "markdown",
   "metadata": {},
   "source": [
    "Question 17:\n",
    "Write a function which will take a list of fruits names. The function will return how many alphabets are repetitive in the names of fruits and how many are unique letters.\n"
   ]
  },
  {
   "cell_type": "code",
   "execution_count": 33,
   "metadata": {},
   "outputs": [
    {
     "name": "stdout",
     "output_type": "stream",
     "text": [
      "the repititive elements are:  7\n"
     ]
    }
   ],
   "source": [
    "import collections\n",
    "def repitivewords(a,p,e):\n",
    "    lst=[a,p,e]\n",
    "    z=0\n",
    "    an=0\n",
    "    for i in lst:\n",
    "        for j in i:\n",
    "            n=i.count(j)\n",
    "            if n>1:\n",
    "                an+=1\n",
    "    print('the repititive elements are: ',an)\n",
    "repitivewords(\"grapes\",\"apple\",\"banana\")\n",
    "            "
   ]
  },
  {
   "cell_type": "markdown",
   "metadata": {},
   "source": [
    "Question 18:\n",
    "Write a function that can take square length and radius of circle. Find the area of both and subtract the smallest shape from largest one and return the remaining shape area.\n"
   ]
  },
  {
   "cell_type": "code",
   "execution_count": 23,
   "metadata": {},
   "outputs": [
    {
     "name": "stdout",
     "output_type": "stream",
     "text": [
      "the area of shape is  3500\n",
      "the area of shape is  3500\n"
     ]
    }
   ],
   "source": [
    "def shape_area(l1,r1,l2,r2):\n",
    "    area1=l1*l1*r1\n",
    "    area2=l2*l2*r2\n",
    "    if area1>area2:\n",
    "        area=area1-area2\n",
    "        print(\"the area of shape is \",area)\n",
    "    elif area2>area1:\n",
    "        area=area2-area1\n",
    "        print(\"the area of shape is \",area)\n",
    "shape_area(10,5,20,10)\n",
    "shape_area(20,10,10,5)"
   ]
  },
  {
   "cell_type": "code",
   "execution_count": null,
   "metadata": {},
   "outputs": [],
   "source": []
  }
 ],
 "metadata": {
  "kernelspec": {
   "display_name": "Python 3",
   "language": "python",
   "name": "python3"
  },
  "language_info": {
   "codemirror_mode": {
    "name": "ipython",
    "version": 3
   },
   "file_extension": ".py",
   "mimetype": "text/x-python",
   "name": "python",
   "nbconvert_exporter": "python",
   "pygments_lexer": "ipython3",
   "version": "3.7.3"
  }
 },
 "nbformat": 4,
 "nbformat_minor": 2
}
